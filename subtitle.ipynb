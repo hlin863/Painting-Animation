{
 "cells": [
  {
   "cell_type": "markdown",
   "metadata": {},
   "source": [
    "🎬 1. Extract Audio from Video"
   ]
  },
  {
   "cell_type": "code",
   "execution_count": 1,
   "metadata": {},
   "outputs": [
    {
     "name": "stdout",
     "output_type": "stream",
     "text": [
      "Requirement already satisfied: moviepy in c:\\users\\haoch\\desktop\\painting-animation\\sadtalker\\venv\\lib\\site-packages (1.0.3)\n",
      "Requirement already satisfied: speechrecognition in c:\\users\\haoch\\desktop\\painting-animation\\sadtalker\\venv\\lib\\site-packages (3.10.4)\n",
      "Requirement already satisfied: pydub in c:\\users\\haoch\\desktop\\painting-animation\\sadtalker\\venv\\lib\\site-packages (0.25.1)\n",
      "Requirement already satisfied: tqdm<5.0,>=4.11.2 in c:\\users\\haoch\\desktop\\painting-animation\\sadtalker\\venv\\lib\\site-packages (from moviepy) (4.67.1)\n",
      "Requirement already satisfied: numpy in c:\\users\\haoch\\desktop\\painting-animation\\sadtalker\\venv\\lib\\site-packages (from moviepy) (1.23.4)\n",
      "Requirement already satisfied: proglog<=1.0.0 in c:\\users\\haoch\\desktop\\painting-animation\\sadtalker\\venv\\lib\\site-packages (from moviepy) (0.1.10)\n",
      "Requirement already satisfied: decorator<5.0,>=4.0.2 in c:\\users\\haoch\\desktop\\painting-animation\\sadtalker\\venv\\lib\\site-packages (from moviepy) (4.4.2)\n",
      "Requirement already satisfied: imageio-ffmpeg>=0.2.0 in c:\\users\\haoch\\desktop\\painting-animation\\sadtalker\\venv\\lib\\site-packages (from moviepy) (0.4.7)\n",
      "Requirement already satisfied: requests<3.0,>=2.8.1 in c:\\users\\haoch\\desktop\\painting-animation\\sadtalker\\venv\\lib\\site-packages (from moviepy) (2.32.3)\n",
      "Requirement already satisfied: imageio<3.0,>=2.5 in c:\\users\\haoch\\desktop\\painting-animation\\sadtalker\\venv\\lib\\site-packages (from moviepy) (2.19.3)\n",
      "Requirement already satisfied: typing-extensions in c:\\users\\haoch\\desktop\\painting-animation\\sadtalker\\venv\\lib\\site-packages (from speechrecognition) (4.12.2)\n",
      "Requirement already satisfied: pillow>=8.3.2 in c:\\users\\haoch\\desktop\\painting-animation\\sadtalker\\venv\\lib\\site-packages (from imageio<3.0,>=2.5->moviepy) (10.4.0)\n",
      "Requirement already satisfied: charset-normalizer<4,>=2 in c:\\users\\haoch\\desktop\\painting-animation\\sadtalker\\venv\\lib\\site-packages (from requests<3.0,>=2.8.1->moviepy) (3.4.1)\n",
      "Requirement already satisfied: urllib3<3,>=1.21.1 in c:\\users\\haoch\\desktop\\painting-animation\\sadtalker\\venv\\lib\\site-packages (from requests<3.0,>=2.8.1->moviepy) (2.2.3)\n",
      "Requirement already satisfied: certifi>=2017.4.17 in c:\\users\\haoch\\desktop\\painting-animation\\sadtalker\\venv\\lib\\site-packages (from requests<3.0,>=2.8.1->moviepy) (2025.1.31)\n",
      "Requirement already satisfied: idna<4,>=2.5 in c:\\users\\haoch\\desktop\\painting-animation\\sadtalker\\venv\\lib\\site-packages (from requests<3.0,>=2.8.1->moviepy) (3.10)\n",
      "Requirement already satisfied: colorama in c:\\users\\haoch\\desktop\\painting-animation\\sadtalker\\venv\\lib\\site-packages (from tqdm<5.0,>=4.11.2->moviepy) (0.4.6)\n",
      "Note: you may need to restart the kernel to use updated packages.\n"
     ]
    },
    {
     "name": "stderr",
     "output_type": "stream",
     "text": [
      "\n",
      "[notice] A new release of pip is available: 23.0.1 -> 25.0.1\n",
      "[notice] To update, run: python.exe -m pip install --upgrade pip\n"
     ]
    }
   ],
   "source": [
    "%pip install moviepy speechrecognition pydub"
   ]
  },
  {
   "cell_type": "code",
   "execution_count": 2,
   "metadata": {},
   "outputs": [
    {
     "name": "stdout",
     "output_type": "stream",
     "text": [
      "MoviePy - Writing audio in Subtitle-Video/temp_audio/temp_audio.wav\n"
     ]
    },
    {
     "name": "stderr",
     "output_type": "stream",
     "text": [
      "                                                                    "
     ]
    },
    {
     "name": "stdout",
     "output_type": "stream",
     "text": [
      "MoviePy - Done.\n"
     ]
    },
    {
     "name": "stderr",
     "output_type": "stream",
     "text": [
      "\r"
     ]
    }
   ],
   "source": [
    "from moviepy.editor import VideoFileClip\n",
    "\n",
    "video = VideoFileClip(\"Subtitle-Video/video/Demo-2.mp4\")\n",
    "video.audio.write_audiofile(\"Subtitle-Video/temp_audio/temp_audio.wav\")"
   ]
  },
  {
   "cell_type": "markdown",
   "metadata": {},
   "source": [
    "🧠 2. Transcribe Audio to Text (Speech Recognition)"
   ]
  },
  {
   "cell_type": "code",
   "execution_count": 3,
   "metadata": {},
   "outputs": [
    {
     "name": "stdout",
     "output_type": "stream",
     "text": [
      "Requirement already satisfied: haystack-ai in c:\\users\\haoch\\desktop\\painting-animation\\sadtalker\\venv\\lib\\site-packages (2.10.3)\n",
      "Requirement already satisfied: lazy-imports in c:\\users\\haoch\\desktop\\painting-animation\\sadtalker\\venv\\lib\\site-packages (from haystack-ai) (0.3.1)\n",
      "Requirement already satisfied: jinja2 in c:\\users\\haoch\\desktop\\painting-animation\\sadtalker\\venv\\lib\\site-packages (from haystack-ai) (3.1.5)\n",
      "Requirement already satisfied: tenacity!=8.4.0 in c:\\users\\haoch\\desktop\\painting-animation\\sadtalker\\venv\\lib\\site-packages (from haystack-ai) (9.0.0)\n",
      "Requirement already satisfied: tqdm in c:\\users\\haoch\\desktop\\painting-animation\\sadtalker\\venv\\lib\\site-packages (from haystack-ai) (4.67.1)\n",
      "Requirement already satisfied: openai>=1.56.1 in c:\\users\\haoch\\desktop\\painting-animation\\sadtalker\\venv\\lib\\site-packages (from haystack-ai) (1.69.0)\n",
      "Requirement already satisfied: numpy in c:\\users\\haoch\\desktop\\painting-animation\\sadtalker\\venv\\lib\\site-packages (from haystack-ai) (1.23.4)\n",
      "Requirement already satisfied: openapi-llm>=0.4.1 in c:\\users\\haoch\\desktop\\painting-animation\\sadtalker\\venv\\lib\\site-packages (from haystack-ai) (0.4.2)\n",
      "Requirement already satisfied: jsonschema in c:\\users\\haoch\\desktop\\painting-animation\\sadtalker\\venv\\lib\\site-packages (from haystack-ai) (4.23.0)\n",
      "Requirement already satisfied: pandas in c:\\users\\haoch\\desktop\\painting-animation\\sadtalker\\venv\\lib\\site-packages (from haystack-ai) (2.0.3)\n",
      "Requirement already satisfied: networkx in c:\\users\\haoch\\desktop\\painting-animation\\sadtalker\\venv\\lib\\site-packages (from haystack-ai) (3.1)\n",
      "Requirement already satisfied: python-dateutil in c:\\users\\haoch\\desktop\\painting-animation\\sadtalker\\venv\\lib\\site-packages (from haystack-ai) (2.9.0.post0)\n",
      "Requirement already satisfied: typing-extensions>=4.7 in c:\\users\\haoch\\desktop\\painting-animation\\sadtalker\\venv\\lib\\site-packages (from haystack-ai) (4.12.2)\n",
      "Requirement already satisfied: requests in c:\\users\\haoch\\desktop\\painting-animation\\sadtalker\\venv\\lib\\site-packages (from haystack-ai) (2.32.3)\n",
      "Requirement already satisfied: posthog<3.12.0 in c:\\users\\haoch\\desktop\\painting-animation\\sadtalker\\venv\\lib\\site-packages (from haystack-ai) (3.11.0)\n",
      "Requirement already satisfied: more-itertools in c:\\users\\haoch\\desktop\\painting-animation\\sadtalker\\venv\\lib\\site-packages (from haystack-ai) (10.5.0)\n",
      "Requirement already satisfied: pydantic in c:\\users\\haoch\\desktop\\painting-animation\\sadtalker\\venv\\lib\\site-packages (from haystack-ai) (2.10.6)\n",
      "Requirement already satisfied: haystack-experimental in c:\\users\\haoch\\desktop\\painting-animation\\sadtalker\\venv\\lib\\site-packages (from haystack-ai) (0.4.0)\n",
      "Requirement already satisfied: pyyaml in c:\\users\\haoch\\desktop\\painting-animation\\sadtalker\\venv\\lib\\site-packages (from haystack-ai) (6.0.2)\n",
      "Requirement already satisfied: sniffio in c:\\users\\haoch\\desktop\\painting-animation\\sadtalker\\venv\\lib\\site-packages (from openai>=1.56.1->haystack-ai) (1.3.1)\n",
      "Requirement already satisfied: httpx<1,>=0.23.0 in c:\\users\\haoch\\desktop\\painting-animation\\sadtalker\\venv\\lib\\site-packages (from openai>=1.56.1->haystack-ai) (0.28.1)\n",
      "Requirement already satisfied: jiter<1,>=0.4.0 in c:\\users\\haoch\\desktop\\painting-animation\\sadtalker\\venv\\lib\\site-packages (from openai>=1.56.1->haystack-ai) (0.9.0)\n",
      "Requirement already satisfied: anyio<5,>=3.5.0 in c:\\users\\haoch\\desktop\\painting-animation\\sadtalker\\venv\\lib\\site-packages (from openai>=1.56.1->haystack-ai) (4.5.2)\n",
      "Requirement already satisfied: distro<2,>=1.7.0 in c:\\users\\haoch\\desktop\\painting-animation\\sadtalker\\venv\\lib\\site-packages (from openai>=1.56.1->haystack-ai) (1.9.0)\n",
      "Requirement already satisfied: jsonref in c:\\users\\haoch\\desktop\\painting-animation\\sadtalker\\venv\\lib\\site-packages (from openapi-llm>=0.4.1->haystack-ai) (1.1.0)\n",
      "Requirement already satisfied: aiohttp in c:\\users\\haoch\\desktop\\painting-animation\\sadtalker\\venv\\lib\\site-packages (from openapi-llm>=0.4.1->haystack-ai) (3.10.11)\n",
      "Requirement already satisfied: monotonic>=1.5 in c:\\users\\haoch\\desktop\\painting-animation\\sadtalker\\venv\\lib\\site-packages (from posthog<3.12.0->haystack-ai) (1.6)\n",
      "Requirement already satisfied: six>=1.5 in c:\\users\\haoch\\desktop\\painting-animation\\sadtalker\\venv\\lib\\site-packages (from posthog<3.12.0->haystack-ai) (1.17.0)\n",
      "Requirement already satisfied: backoff>=1.10.0 in c:\\users\\haoch\\desktop\\painting-animation\\sadtalker\\venv\\lib\\site-packages (from posthog<3.12.0->haystack-ai) (2.2.1)\n",
      "Requirement already satisfied: pydantic-core==2.27.2 in c:\\users\\haoch\\desktop\\painting-animation\\sadtalker\\venv\\lib\\site-packages (from pydantic->haystack-ai) (2.27.2)\n",
      "Requirement already satisfied: annotated-types>=0.6.0 in c:\\users\\haoch\\desktop\\painting-animation\\sadtalker\\venv\\lib\\site-packages (from pydantic->haystack-ai) (0.7.0)\n",
      "Requirement already satisfied: urllib3<3,>=1.21.1 in c:\\users\\haoch\\desktop\\painting-animation\\sadtalker\\venv\\lib\\site-packages (from requests->haystack-ai) (2.2.3)\n",
      "Requirement already satisfied: certifi>=2017.4.17 in c:\\users\\haoch\\desktop\\painting-animation\\sadtalker\\venv\\lib\\site-packages (from requests->haystack-ai) (2025.1.31)\n",
      "Requirement already satisfied: idna<4,>=2.5 in c:\\users\\haoch\\desktop\\painting-animation\\sadtalker\\venv\\lib\\site-packages (from requests->haystack-ai) (3.10)\n",
      "Requirement already satisfied: charset-normalizer<4,>=2 in c:\\users\\haoch\\desktop\\painting-animation\\sadtalker\\venv\\lib\\site-packages (from requests->haystack-ai) (3.4.1)\n",
      "Requirement already satisfied: colorama in c:\\users\\haoch\\desktop\\painting-animation\\sadtalker\\venv\\lib\\site-packages (from tqdm->haystack-ai) (0.4.6)\n",
      "Requirement already satisfied: MarkupSafe>=2.0 in c:\\users\\haoch\\desktop\\painting-animation\\sadtalker\\venv\\lib\\site-packages (from jinja2->haystack-ai) (2.1.5)\n",
      "Requirement already satisfied: importlib-resources>=1.4.0 in c:\\users\\haoch\\desktop\\painting-animation\\sadtalker\\venv\\lib\\site-packages (from jsonschema->haystack-ai) (6.4.5)\n",
      "Requirement already satisfied: rpds-py>=0.7.1 in c:\\users\\haoch\\desktop\\painting-animation\\sadtalker\\venv\\lib\\site-packages (from jsonschema->haystack-ai) (0.20.1)\n",
      "Requirement already satisfied: referencing>=0.28.4 in c:\\users\\haoch\\desktop\\painting-animation\\sadtalker\\venv\\lib\\site-packages (from jsonschema->haystack-ai) (0.35.1)\n",
      "Requirement already satisfied: attrs>=22.2.0 in c:\\users\\haoch\\desktop\\painting-animation\\sadtalker\\venv\\lib\\site-packages (from jsonschema->haystack-ai) (25.3.0)\n",
      "Requirement already satisfied: jsonschema-specifications>=2023.03.6 in c:\\users\\haoch\\desktop\\painting-animation\\sadtalker\\venv\\lib\\site-packages (from jsonschema->haystack-ai) (2023.12.1)\n",
      "Requirement already satisfied: pkgutil-resolve-name>=1.3.10 in c:\\users\\haoch\\desktop\\painting-animation\\sadtalker\\venv\\lib\\site-packages (from jsonschema->haystack-ai) (1.3.10)\n",
      "Requirement already satisfied: pytz>=2020.1 in c:\\users\\haoch\\desktop\\painting-animation\\sadtalker\\venv\\lib\\site-packages (from pandas->haystack-ai) (2025.1)\n",
      "Requirement already satisfied: tzdata>=2022.1 in c:\\users\\haoch\\desktop\\painting-animation\\sadtalker\\venv\\lib\\site-packages (from pandas->haystack-ai) (2025.1)\n",
      "Requirement already satisfied: exceptiongroup>=1.0.2 in c:\\users\\haoch\\desktop\\painting-animation\\sadtalker\\venv\\lib\\site-packages (from anyio<5,>=3.5.0->openai>=1.56.1->haystack-ai) (1.2.2)\n",
      "Requirement already satisfied: httpcore==1.* in c:\\users\\haoch\\desktop\\painting-animation\\sadtalker\\venv\\lib\\site-packages (from httpx<1,>=0.23.0->openai>=1.56.1->haystack-ai) (1.0.7)\n",
      "Requirement already satisfied: h11<0.15,>=0.13 in c:\\users\\haoch\\desktop\\painting-animation\\sadtalker\\venv\\lib\\site-packages (from httpcore==1.*->httpx<1,>=0.23.0->openai>=1.56.1->haystack-ai) (0.14.0)\n",
      "Requirement already satisfied: zipp>=3.1.0 in c:\\users\\haoch\\desktop\\painting-animation\\sadtalker\\venv\\lib\\site-packages (from importlib-resources>=1.4.0->jsonschema->haystack-ai) (3.20.2)\n",
      "Requirement already satisfied: aiohappyeyeballs>=2.3.0 in c:\\users\\haoch\\desktop\\painting-animation\\sadtalker\\venv\\lib\\site-packages (from aiohttp->openapi-llm>=0.4.1->haystack-ai) (2.4.4)\n",
      "Requirement already satisfied: frozenlist>=1.1.1 in c:\\users\\haoch\\desktop\\painting-animation\\sadtalker\\venv\\lib\\site-packages (from aiohttp->openapi-llm>=0.4.1->haystack-ai) (1.5.0)\n",
      "Requirement already satisfied: aiosignal>=1.1.2 in c:\\users\\haoch\\desktop\\painting-animation\\sadtalker\\venv\\lib\\site-packages (from aiohttp->openapi-llm>=0.4.1->haystack-ai) (1.3.1)\n",
      "Requirement already satisfied: async-timeout<6.0,>=4.0 in c:\\users\\haoch\\desktop\\painting-animation\\sadtalker\\venv\\lib\\site-packages (from aiohttp->openapi-llm>=0.4.1->haystack-ai) (5.0.1)\n",
      "Requirement already satisfied: yarl<2.0,>=1.12.0 in c:\\users\\haoch\\desktop\\painting-animation\\sadtalker\\venv\\lib\\site-packages (from aiohttp->openapi-llm>=0.4.1->haystack-ai) (1.15.2)\n",
      "Requirement already satisfied: multidict<7.0,>=4.5 in c:\\users\\haoch\\desktop\\painting-animation\\sadtalker\\venv\\lib\\site-packages (from aiohttp->openapi-llm>=0.4.1->haystack-ai) (6.1.0)\n",
      "Requirement already satisfied: propcache>=0.2.0 in c:\\users\\haoch\\desktop\\painting-animation\\sadtalker\\venv\\lib\\site-packages (from yarl<2.0,>=1.12.0->aiohttp->openapi-llm>=0.4.1->haystack-ai) (0.2.0)\n",
      "Note: you may need to restart the kernel to use updated packages.\n"
     ]
    },
    {
     "name": "stderr",
     "output_type": "stream",
     "text": [
      "\n",
      "[notice] A new release of pip is available: 23.0.1 -> 25.0.1\n",
      "[notice] To update, run: python.exe -m pip install --upgrade pip\n"
     ]
    }
   ],
   "source": [
    "%pip install haystack-ai"
   ]
  },
  {
   "cell_type": "code",
   "execution_count": 4,
   "metadata": {},
   "outputs": [],
   "source": [
    "from haystack.components.audio import LocalWhisperTranscriber\n",
    "from pydub import AudioSegment\n",
    "from pydub.silence import split_on_silence"
   ]
  },
  {
   "cell_type": "code",
   "execution_count": 5,
   "metadata": {},
   "outputs": [],
   "source": [
    "# Initialize the Whisper transcriber\n",
    "transcriber = LocalWhisperTranscriber()\n",
    "transcriber.warm_up()"
   ]
  },
  {
   "cell_type": "code",
   "execution_count": 6,
   "metadata": {},
   "outputs": [],
   "source": [
    "transcription = transcriber.run(sources=[\"./Subtitle-Video/temp_audio/temp_audio.mp3\"])"
   ]
  },
  {
   "cell_type": "code",
   "execution_count": 7,
   "metadata": {},
   "outputs": [
    {
     "name": "stdout",
     "output_type": "stream",
     "text": [
      " Sir Keir Starmer has hit the ground running on his first full day as Prime Minister, holding his first Cabinet meeting and then a press conference laying out his plans for the immediate future. He'll start a tour of the UK's nations tomorrow and warned tough decisions will be made early. He said both prisons and the NHS in England are broken, but that work to fix the NHS has already begun. And he confirmed the previous government's Rwanda migrants plan has been scrapped. Here's our political correspondent, Shihab Khan, on Sir Keir's first full day in charge.\n"
     ]
    }
   ],
   "source": [
    "print(transcription[\"documents\"][0].content)"
   ]
  },
  {
   "cell_type": "code",
   "execution_count": 8,
   "metadata": {},
   "outputs": [],
   "source": [
    "transcript_text = transcription[\"documents\"][0].content"
   ]
  },
  {
   "cell_type": "code",
   "execution_count": 9,
   "metadata": {},
   "outputs": [
    {
     "data": {
      "text/plain": [
       "\" Sir Keir Starmer has hit the ground running on his first full day as Prime Minister, holding his first Cabinet meeting and then a press conference laying out his plans for the immediate future. He'll start a tour of the UK's nations tomorrow and warned tough decisions will be made early. He said both prisons and the NHS in England are broken, but that work to fix the NHS has already begun. And he confirmed the previous government's Rwanda migrants plan has been scrapped. Here's our political correspondent, Shihab Khan, on Sir Keir's first full day in charge.\""
      ]
     },
     "execution_count": 9,
     "metadata": {},
     "output_type": "execute_result"
    }
   ],
   "source": [
    "transcript_text"
   ]
  },
  {
   "cell_type": "code",
   "execution_count": 10,
   "metadata": {},
   "outputs": [],
   "source": [
    "import os"
   ]
  },
  {
   "cell_type": "code",
   "execution_count": 11,
   "metadata": {},
   "outputs": [],
   "source": [
    "sound = AudioSegment.from_wav(\"Subtitle-Video/temp_audio/temp_audio.wav\")"
   ]
  },
  {
   "cell_type": "code",
   "execution_count": 12,
   "metadata": {},
   "outputs": [],
   "source": [
    "chunks = split_on_silence(\n",
    "    sound,\n",
    "    min_silence_len=300,                # Detect shorter pauses (was 700)\n",
    "    silence_thresh=sound.dBFS - 16,     # Be more sensitive to soft speech\n",
    "    keep_silence=300                    # Add 300ms silence before/after each chunk\n",
    ")"
   ]
  },
  {
   "cell_type": "code",
   "execution_count": 13,
   "metadata": {},
   "outputs": [],
   "source": [
    "subtitles = []\n",
    "start_time = 0"
   ]
  },
  {
   "cell_type": "code",
   "execution_count": 14,
   "metadata": {},
   "outputs": [],
   "source": [
    "from pydub.silence import detect_nonsilent\n",
    "\n",
    "nonsilent_ranges = detect_nonsilent(\n",
    "    sound,\n",
    "    min_silence_len=500,\n",
    "    silence_thresh=sound.dBFS - 16\n",
    ")\n",
    "\n",
    "# Extend each detected range by 300ms (within bounds)\n",
    "buffer_ms = 300\n",
    "nonsilent_ranges = [\n",
    "    (max(start - buffer_ms, 0), min(end + buffer_ms, len(sound)))\n",
    "    for start, end in nonsilent_ranges\n",
    "]"
   ]
  },
  {
   "cell_type": "code",
   "execution_count": 15,
   "metadata": {},
   "outputs": [],
   "source": [
    "for i, (start_ms, end_ms) in enumerate(nonsilent_ranges):\n",
    "    chunk = sound[start_ms:end_ms]\n",
    "    chunk_filename = os.path.abspath(f\"Subtitle-Video/temp_audio/chunk{i}.wav\")\n",
    "    chunk.export(chunk_filename, format=\"wav\")"
   ]
  },
  {
   "cell_type": "code",
   "execution_count": 16,
   "metadata": {},
   "outputs": [
    {
     "name": "stdout",
     "output_type": "stream",
     "text": [
      "Start : 0, type <class 'int'>\n",
      "End: 10683, type: <class 'int'>\n",
      "Transcribed text:  Sir Keir Starmer has hit the ground running on his first full day as Prime Minister, holding his first Cabinet meeting and then a press conference laying out his plans for the immediate future.\n",
      "Start : 10628, type <class 'int'>\n",
      "End: 23337, type: <class 'int'>\n",
      "Transcribed text:  He'll start a tour of the UK's nations tomorrow and warned tough decisions will be made early. He said both prisons and the NHS in England are broken, but that work to fix the NHS has already begun.\n",
      "Start : 23321, type <class 'int'>\n",
      "End: 28383, type: <class 'int'>\n",
      "Transcribed text:  and he confirmed the previous government's Rwanda migrants plan has been scrapped.\n",
      "Start : 28548, type <class 'int'>\n",
      "End: 33733, type: <class 'int'>\n",
      "Transcribed text:  Here's our political correspondent, Shihab Khan, on Sir Keir's first full day in charge.\n"
     ]
    }
   ],
   "source": [
    "for i, (start_ms, end_ms) in enumerate(nonsilent_ranges):\n",
    "    print(f\"Start : {start_ms}, type {type(start_ms)}\")\n",
    "    print(f\"End: {end_ms}, type: {type(end_ms)}\")\n",
    "    chunk = sound[start_ms:end_ms]\n",
    "    chunk_filename = f\"./Subtitle-Video/temp_audio/chunk{i}.mp3\"\n",
    "    chunk.export(chunk_filename, format=\"mp3\")\n",
    "\n",
    "    try:\n",
    "        # Use the absolute path to avoid errors\n",
    "        transcription_result = transcriber.transcribe(sources=[chunk_filename])\n",
    "        text = transcription_result[0].content\n",
    "\n",
    "        if text:\n",
    "            print(f\"Transcribed text: {text}\")\n",
    "            start_time = start_ms / 1000.0\n",
    "            end_time = end_ms / 1000.0\n",
    "            subtitles.append((start_time, end_time, text))\n",
    "    except Exception as e:\n",
    "        print(f\"Error during transcription: {e}\")\n",
    "        continue\n",
    "\n",
    "    # Remove the temporary audio file\n",
    "    os.remove(chunk_filename)"
   ]
  },
  {
   "cell_type": "markdown",
   "metadata": {},
   "source": [
    "💬 3. Burn Subtitles into Video"
   ]
  },
  {
   "cell_type": "code",
   "execution_count": 17,
   "metadata": {},
   "outputs": [],
   "source": [
    "from moviepy.editor import TextClip, CompositeVideoClip"
   ]
  },
  {
   "cell_type": "code",
   "execution_count": null,
   "metadata": {},
   "outputs": [],
   "source": [
    "# import moviepy.config as mpy_config\n",
    "# mpy_config.change_settings({\"IMAGEMAGICK_BINARY\": r\"C:\\Program Files\\ImageMagick-7.1.1-Q16-HDRI\\convert.exe\"})"
   ]
  },
  {
   "cell_type": "code",
   "execution_count": 18,
   "metadata": {},
   "outputs": [],
   "source": [
    "from moviepy.config import change_settings\n",
    "change_settings({\"IMAGEMAGICK_BINARY\": r\"C:\\\\Program Files\\\\ImageMagick-7.1.1-Q16-HDRI\\\\magick.exe\"})"
   ]
  },
  {
   "cell_type": "code",
   "execution_count": 19,
   "metadata": {},
   "outputs": [],
   "source": [
    "from moviepy.editor import TextClip\n",
    "# solution to MoviePy not found error: https://stackoverflow.com/questions/51928807/moviepy-cant-detect-imagemagick-binary-on-windows\n",
    "\n",
    "clip = TextClip(\"Hello, world!\", fontsize=70, color='white', bg_color='black')\n",
    "clip.save_frame(\"test_output.png\")"
   ]
  },
  {
   "cell_type": "code",
   "execution_count": 20,
   "metadata": {},
   "outputs": [],
   "source": [
    "import textwrap"
   ]
  },
  {
   "cell_type": "code",
   "execution_count": 21,
   "metadata": {},
   "outputs": [],
   "source": [
    "import re\n",
    "\n",
    "def split_text(text, max_words=8):\n",
    "    \"\"\"Split a sentence into smaller chunks with up to `max_words` each.\"\"\"\n",
    "    words = text.split()\n",
    "    return [' '.join(words[i:i+max_words]) for i in range(0, len(words), max_words)]"
   ]
  },
  {
   "cell_type": "code",
   "execution_count": 22,
   "metadata": {},
   "outputs": [
    {
     "name": "stdout",
     "output_type": "stream",
     "text": [
      "Text chunk: ['Sir Keir Starmer has hit the ground running', 'on his first full day as Prime Minister,', 'holding his first Cabinet meeting and then a', 'press conference laying out his plans for the', 'immediate future.']\n",
      "Text chunk: [\"He'll start a tour of the UK's nations\", 'tomorrow and warned tough decisions will be made', 'early. He said both prisons and the NHS', 'in England are broken, but that work to', 'fix the NHS has already begun.']\n",
      "Text chunk: [\"and he confirmed the previous government's Rwanda migrants\", 'plan has been scrapped.']\n",
      "Text chunk: [\"Here's our political correspondent, Shihab Khan, on Sir\", \"Keir's first full day in charge.\"]\n"
     ]
    }
   ],
   "source": [
    "subtitle_clips = []\n",
    "\n",
    "for start, end, text in subtitles:\n",
    "    duration = end - start\n",
    "    chunks = split_text(text, max_words=8)\n",
    "\n",
    "    print(f\"Text chunk: {chunks}\")\n",
    "\n",
    "    word_counts = [len(chunk.split()) for chunk in chunks]\n",
    "    total_words = sum(word_counts)\n",
    "\n",
    "    # Compute proportional durations for each chunk\n",
    "    chunk_durations = [(wc / total_words) * duration for wc in word_counts]\n",
    "\n",
    "    current_time = start\n",
    "    for chunk, chunk_duration in zip(chunks, chunk_durations):\n",
    "        chunk_end = current_time + chunk_duration\n",
    "\n",
    "        wrapped_text = textwrap.fill(chunk, width=50)\n",
    "\n",
    "        txt_clip = TextClip(\n",
    "            wrapped_text,\n",
    "            fontsize=64,\n",
    "            color='white',\n",
    "            method='caption',\n",
    "            size=(int(video.w * 0.9), None)\n",
    "        )\n",
    "\n",
    "        txt_clip = txt_clip.on_color(\n",
    "            size=txt_clip.size,\n",
    "            color=(0, 0, 0),\n",
    "            col_opacity=0.6\n",
    "        ).set_position((\"center\", \"bottom\"))\n",
    "\n",
    "        txt_clip = txt_clip.set_start(current_time).set_duration(chunk_duration)\n",
    "        subtitle_clips.append(txt_clip)\n",
    "\n",
    "        current_time = chunk_end"
   ]
  },
  {
   "cell_type": "code",
   "execution_count": 23,
   "metadata": {},
   "outputs": [
    {
     "name": "stdout",
     "output_type": "stream",
     "text": [
      "Moviepy - Building video Subtitle-Video/output/Output-Demo2.mp4.\n",
      "MoviePy - Writing audio in Output-Demo2TEMP_MPY_wvf_snd.mp3\n"
     ]
    },
    {
     "name": "stderr",
     "output_type": "stream",
     "text": [
      "                                                                    \r"
     ]
    },
    {
     "name": "stdout",
     "output_type": "stream",
     "text": [
      "MoviePy - Done.\n",
      "Moviepy - Writing video Subtitle-Video/output/Output-Demo2.mp4\n",
      "\n"
     ]
    },
    {
     "name": "stderr",
     "output_type": "stream",
     "text": [
      "                                                                \r"
     ]
    },
    {
     "name": "stdout",
     "output_type": "stream",
     "text": [
      "Moviepy - Done !\n",
      "Moviepy - video ready Subtitle-Video/output/Output-Demo2.mp4\n"
     ]
    }
   ],
   "source": [
    "final_video = CompositeVideoClip([video] + subtitle_clips, size=video.size)\n",
    "final_video.write_videofile(\"Subtitle-Video/output/Output-Demo2.mp4\", codec=\"libx264\", fps=video.fps)"
   ]
  }
 ],
 "metadata": {
  "kernelspec": {
   "display_name": "venv",
   "language": "python",
   "name": "python3"
  },
  "language_info": {
   "codemirror_mode": {
    "name": "ipython",
    "version": 3
   },
   "file_extension": ".py",
   "mimetype": "text/x-python",
   "name": "python",
   "nbconvert_exporter": "python",
   "pygments_lexer": "ipython3",
   "version": "3.8.20"
  }
 },
 "nbformat": 4,
 "nbformat_minor": 2
}
