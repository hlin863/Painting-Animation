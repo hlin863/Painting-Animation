{
 "cells": [
  {
   "cell_type": "code",
   "execution_count": 1,
   "metadata": {},
   "outputs": [],
   "source": [
    "from PIL import Image\n",
    "import cv2\n",
    "import numpy as np\n",
    "import os"
   ]
  },
  {
   "cell_type": "code",
   "execution_count": 2,
   "metadata": {},
   "outputs": [],
   "source": [
    "def create_shaking_animation(image_path, output_path, shake_intensity=5, frames=10, fps=15):\n",
    "    # Load the image\n",
    "    image = Image.open(image_path)\n",
    "    width, height = image.size\n",
    "    \n",
    "    # Create a list to store the frames\n",
    "    frames_list = []\n",
    "\n",
    "    for i in range(frames):\n",
    "        # Calculate the shake offset (alternating left and right)\n",
    "        offset = shake_intensity if i % 2 == 0 else -shake_intensity\n",
    "        \n",
    "        # Create a new blank image with the same size and mode\n",
    "        frame = Image.new(\"RGBA\", (width, height), (0, 0, 0, 0))\n",
    "        \n",
    "        # Paste the image with an offset\n",
    "        frame.paste(image, (offset, 0))\n",
    "        \n",
    "        # Convert the frame to OpenCV format and append to the list\n",
    "        frame_cv = cv2.cvtColor(np.array(frame), cv2.COLOR_RGBA2BGR)\n",
    "        frames_list.append(frame_cv)\n",
    "\n",
    "    # Save the animation as a video\n",
    "    fourcc = cv2.VideoWriter_fourcc(*'mp4v')\n",
    "    video_writer = cv2.VideoWriter(output_path, fourcc, fps, (width, height))\n",
    "\n",
    "    for frame in frames_list:\n",
    "        video_writer.write(frame)\n",
    "    video_writer.release()\n",
    "\n",
    "    print(f\"Shaking animation saved as {output_path}\")"
   ]
  },
  {
   "cell_type": "code",
   "execution_count": 3,
   "metadata": {},
   "outputs": [],
   "source": [
    "input_path = \"Input/trump.jpg\"\n",
    "output_path = \"Output/shaking_head.mp4\""
   ]
  },
  {
   "cell_type": "code",
   "execution_count": 4,
   "metadata": {},
   "outputs": [
    {
     "name": "stdout",
     "output_type": "stream",
     "text": [
      "Shaking animation saved as Output/shaking_head.mp4\n"
     ]
    }
   ],
   "source": [
    "# Example usage\n",
    "create_shaking_animation(input_path, output_path, shake_intensity=10, frames=20, fps=15)"
   ]
  },
  {
   "cell_type": "markdown",
   "metadata": {},
   "source": [
    "## Facial Feature Detection"
   ]
  },
  {
   "cell_type": "code",
   "execution_count": 6,
   "metadata": {},
   "outputs": [],
   "source": [
    "import cv2\n",
    "import dlib"
   ]
  },
  {
   "cell_type": "code",
   "execution_count": 8,
   "metadata": {},
   "outputs": [],
   "source": [
    "# Load dlib's face detector and shape predictor\n",
    "detector = dlib.get_frontal_face_detector()\n",
    "predictor = dlib.shape_predictor(\"Models/shape_predictor_68_face_landmarks.dat\")"
   ]
  },
  {
   "cell_type": "code",
   "execution_count": 9,
   "metadata": {},
   "outputs": [],
   "source": [
    "def draw_landmarks(image, landmarks):\n",
    "    # Draw circles on each landmark point\n",
    "    for n in range(0, 68):\n",
    "        x = landmarks.part(n).x\n",
    "        y = landmarks.part(n).y\n",
    "        cv2.circle(image, (x, y), 2, (0, 255, 0), -1)"
   ]
  },
  {
   "cell_type": "code",
   "execution_count": 10,
   "metadata": {},
   "outputs": [],
   "source": [
    "def capture_facial_features(image_path):\n",
    "    # Read the image\n",
    "    image = cv2.imread(image_path)\n",
    "    gray = cv2.cvtColor(image, cv2.COLOR_BGR2GRAY)\n",
    "\n",
    "    # Detect faces\n",
    "    faces = detector(gray)\n",
    "\n",
    "    for face in faces:\n",
    "        # Get the landmarks/parts for the face\n",
    "        landmarks = predictor(gray, face)\n",
    "        \n",
    "        # Draw the landmarks on the image\n",
    "        draw_landmarks(image, landmarks)\n",
    "\n",
    "        # Draw a rectangle around the detected face\n",
    "        x, y, w, h = face.left(), face.top(), face.width(), face.height()\n",
    "        cv2.rectangle(image, (x, y), (x + w, y + h), (255, 0, 0), 2)\n",
    "\n",
    "    # Display the image with facial landmarks\n",
    "    cv2.imshow(\"Facial Features\", image)\n",
    "    cv2.waitKey(0)\n",
    "    cv2.destroyAllWindows()\n"
   ]
  },
  {
   "cell_type": "code",
   "execution_count": 11,
   "metadata": {},
   "outputs": [],
   "source": [
    "# Example usage\n",
    "capture_facial_features(input_path)"
   ]
  },
  {
   "cell_type": "markdown",
   "metadata": {},
   "source": [
    "## Head Shaking"
   ]
  }
 ],
 "metadata": {
  "kernelspec": {
   "display_name": "head_venv",
   "language": "python",
   "name": "python3"
  },
  "language_info": {
   "codemirror_mode": {
    "name": "ipython",
    "version": 3
   },
   "file_extension": ".py",
   "mimetype": "text/x-python",
   "name": "python",
   "nbconvert_exporter": "python",
   "pygments_lexer": "ipython3",
   "version": "3.11.0"
  }
 },
 "nbformat": 4,
 "nbformat_minor": 2
}
